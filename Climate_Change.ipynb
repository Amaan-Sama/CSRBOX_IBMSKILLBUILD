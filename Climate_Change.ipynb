{
  "nbformat": 4,
  "nbformat_minor": 0,
  "metadata": {
    "colab": {
      "provenance": [],
      "include_colab_link": true
    },
    "kernelspec": {
      "name": "python3",
      "display_name": "Python 3"
    },
    "language_info": {
      "name": "python"
    }
  },
  "cells": [
    {
      "cell_type": "markdown",
      "metadata": {
        "id": "view-in-github",
        "colab_type": "text"
      },
      "source": [
        "<a href=\"https://colab.research.google.com/github/Amaan-Sama/CSRBOX_IBMSKILLBUILD/blob/main/Climate_Change.ipynb\" target=\"_parent\"><img src=\"https://colab.research.google.com/assets/colab-badge.svg\" alt=\"Open In Colab\"/></a>"
      ]
    },
    {
      "cell_type": "markdown",
      "source": [
        "\n",
        "1"
      ],
      "metadata": {
        "id": "K3yWWtQ8cC4i"
      }
    },
    {
      "cell_type": "code",
      "source": [
        "!pip install -qU \\\n",
        "  google-generativeai==0.8.5 \\\n",
        "  google-ai-generativelanguage==0.6.15 \\\n",
        "  langgraph \\\n",
        "  langchain \\\n",
        "  langchain-google-genai \\\n",
        "  openai"
      ],
      "metadata": {
        "colab": {
          "base_uri": "https://localhost:8080/"
        },
        "id": "7cCNWgYKpcxF",
        "outputId": "79f135a1-1785-4f72-e523-d578a460dc46"
      },
      "execution_count": null,
      "outputs": [
        {
          "output_type": "stream",
          "name": "stdout",
          "text": [
            "\u001b[2K     \u001b[90m━━━━━━━━━━━━━━━━━━━━━━━━━━━━━━━━━━━━━━━━\u001b[0m \u001b[32m43.7/43.7 kB\u001b[0m \u001b[31m2.5 MB/s\u001b[0m eta \u001b[36m0:00:00\u001b[0m\n",
            "\u001b[2K   \u001b[90m━━━━━━━━━━━━━━━━━━━━━━━━━━━━━━━━━━━━━━━━\u001b[0m \u001b[32m143.8/143.8 kB\u001b[0m \u001b[31m4.7 MB/s\u001b[0m eta \u001b[36m0:00:00\u001b[0m\n",
            "\u001b[2K   \u001b[90m━━━━━━━━━━━━━━━━━━━━━━━━━━━━━━━━━━━━━━━━\u001b[0m \u001b[32m42.0/42.0 kB\u001b[0m \u001b[31m1.7 MB/s\u001b[0m eta \u001b[36m0:00:00\u001b[0m\n",
            "\u001b[2K   \u001b[90m━━━━━━━━━━━━━━━━━━━━━━━━━━━━━━━━━━━━━━━━\u001b[0m \u001b[32m757.5/757.5 kB\u001b[0m \u001b[31m25.8 MB/s\u001b[0m eta \u001b[36m0:00:00\u001b[0m\n",
            "\u001b[2K   \u001b[90m━━━━━━━━━━━━━━━━━━━━━━━━━━━━━━━━━━━━━━━━\u001b[0m \u001b[32m43.8/43.8 kB\u001b[0m \u001b[31m3.1 MB/s\u001b[0m eta \u001b[36m0:00:00\u001b[0m\n",
            "\u001b[2K   \u001b[90m━━━━━━━━━━━━━━━━━━━━━━━━━━━━━━━━━━━━━━━━\u001b[0m \u001b[32m50.2/50.2 kB\u001b[0m \u001b[31m3.8 MB/s\u001b[0m eta \u001b[36m0:00:00\u001b[0m\n",
            "\u001b[2K   \u001b[90m━━━━━━━━━━━━━━━━━━━━━━━━━━━━━━━━━━━━━━━━\u001b[0m \u001b[32m216.5/216.5 kB\u001b[0m \u001b[31m15.6 MB/s\u001b[0m eta \u001b[36m0:00:00\u001b[0m\n",
            "\u001b[?25h"
          ]
        }
      ]
    },
    {
      "cell_type": "markdown",
      "source": [
        "2"
      ],
      "metadata": {
        "id": "XvoFPl11cFhj"
      }
    },
    {
      "cell_type": "code",
      "source": [
        "import os\n",
        "import getpass\n",
        "from langgraph.graph import StateGraph, END\n",
        "from langchain_google_genai import ChatGoogleGenerativeAI\n",
        "from langchain_core.messages import HumanMessage"
      ],
      "metadata": {
        "id": "P72KJ29RrUMn"
      },
      "execution_count": null,
      "outputs": []
    },
    {
      "cell_type": "markdown",
      "source": [
        "\n",
        "3"
      ],
      "metadata": {
        "id": "W28u20SxcIiH"
      }
    },
    {
      "cell_type": "code",
      "source": [
        "os.environ[\"GOOGLE_API_KEY\"] = getpass.getpass(\"Enter your gemini key\")"
      ],
      "metadata": {
        "colab": {
          "base_uri": "https://localhost:8080/"
        },
        "id": "tnJLicn2ssJi",
        "outputId": "dbbd45ca-8aaa-467c-f549-207db8066ec1"
      },
      "execution_count": null,
      "outputs": [
        {
          "name": "stdout",
          "output_type": "stream",
          "text": [
            "Enter your gemini key··········\n"
          ]
        }
      ]
    },
    {
      "cell_type": "markdown",
      "source": [
        "4"
      ],
      "metadata": {
        "id": "eusINPuVcLXp"
      }
    },
    {
      "cell_type": "code",
      "source": [
        "llm = ChatGoogleGenerativeAI(model=\"models/gemini-1.5-flash-latest\", temperature=0.2)"
      ],
      "metadata": {
        "id": "ZXcNxjHnt6dy"
      },
      "execution_count": null,
      "outputs": []
    },
    {
      "cell_type": "markdown",
      "source": [
        "4"
      ],
      "metadata": {
        "id": "o07zbkLWcOVW"
      }
    },
    {
      "cell_type": "code",
      "source": [
        "def get_problem(state: dict) -> dict:\n",
        "  problem = input(\"This is an Expert A.I guide for your problem , Please enter the situation to be solved\")\n",
        "  state[\"problem\"] = problem\n",
        "  return state"
      ],
      "metadata": {
        "id": "RNvP-fO3unq-"
      },
      "execution_count": null,
      "outputs": []
    },
    {
      "cell_type": "markdown",
      "source": [
        "5"
      ],
      "metadata": {
        "id": "0KIzyYPVcRVm"
      }
    },
    {
      "cell_type": "code",
      "source": [
        "def classify_problem(state : dict ) -> dict:\n",
        "  prompt = (\n",
        "      \"You are a helpful environmental assistant. Classify the user's concern below into one of the categories:\\n\"\n",
        "        \"- Awareness\\n- Action\\n- Emergency\\n\\n\"\n",
        "        f\"problem: {state['problem']}\\n\"\n",
        "        \"Respond with only one word: Awareness, Action, or Emergency.\\n\"\n",
        "        \"#Example: input: There is smoke in the sky from nearby fires. → output: Emergency\"\n",
        "  )\n",
        "  response = llm.invoke([HumanMessage(content=prompt)])\n",
        "  category = response.content.strip()\n",
        "  print(f\"LLM Classifies the problem as : {category}\") #debug\n",
        "  state[\"category\"]=category"
      ],
      "metadata": {
        "id": "e2N3HVmbwbmL"
      },
      "execution_count": null,
      "outputs": []
    },
    {
      "cell_type": "markdown",
      "source": [
        "6\n"
      ],
      "metadata": {
        "id": "kESmxbnicWpS"
      }
    },
    {
      "cell_type": "code",
      "source": [
        "def problem_router(state:dict) -> dict:\n",
        "  cat = state[\"category\"].lower()\n",
        "  if \"awareness\" in cat:\n",
        "    return\"awareness\"\n",
        "  elif \"emergency\" in cat:\n",
        "    return\"emergency\"\n",
        "  elif \"action\" in cat:\n",
        "    return \"action\"\n",
        "  else:\n",
        "    return \"awareness\""
      ],
      "metadata": {
        "id": "_8LyAy1AzTrR"
      },
      "execution_count": null,
      "outputs": []
    },
    {
      "cell_type": "markdown",
      "source": [
        "7\n"
      ],
      "metadata": {
        "id": "cZuR4VGscake"
      }
    },
    {
      "cell_type": "code",
      "source": [
        "def awareness_node(state: dict) -> dict:\n",
        "    prompt = (\n",
        "        f\"You are a knowledgeable climate educator.\\n\"\n",
        "        f\"User's question: {state['problem']}\\n\"\n",
        "        \"Give an informative, clear explanation to raise the user's awareness about this issue.\"\n",
        "    )\n",
        "    response = llm.invoke([HumanMessage(content=prompt)])\n",
        "    state[\"answer\"] = response.content.strip()\n",
        "    return state\n",
        "\n",
        "def emergency_node(state: dict) -> dict:\n",
        "    prompt = (\n",
        "        f\"You are an environmental emergency assistant.\\n\"\n",
        "        f\"Situation: {state['problem']}\\n\"\n",
        "        \"Give urgent advice or immediate steps the user should take for their safety.\"\n",
        "    )\n",
        "    response = llm.invoke([HumanMessage(content=prompt)])\n",
        "    state[\"answer\"] = response.content.strip()\n",
        "    return state\n",
        "\n",
        "def action_node(state: dict) -> dict:\n",
        "    prompt = (\n",
        "        f\"You are a helpful environmental assistant.\\n\"\n",
        "        f\"User's request: {state['problem']}\\n\"\n",
        "        \"Please provide a specific, actionable response to help the user take positive climate action based on their concern.\"\n",
        "    )\n",
        "    response = llm.invoke([HumanMessage(content=prompt)])\n",
        "    state[\"answer\"] = response.content.strip()\n",
        "    return state"
      ],
      "metadata": {
        "id": "3L3dpLas1_Qe"
      },
      "execution_count": null,
      "outputs": []
    },
    {
      "cell_type": "markdown",
      "source": [
        "8"
      ],
      "metadata": {
        "id": "I1ek0SwzcehS"
      }
    },
    {
      "cell_type": "code",
      "source": [
        "builder = StateGraph(dict)\n",
        "\n",
        "\n",
        "builder.set_entry_point(\"get_problem\")\n",
        "\n",
        "\n",
        "builder.add_node(\"get_problem\", get_problem)\n",
        "builder.add_node(\"classify\", classify_problem)\n",
        "builder.add_node(\"awareness\", awareness_node)\n",
        "builder.add_node(\"emergency\", emergency_node)\n",
        "builder.add_node(\"action\", action_node)\n",
        "\n",
        "\n",
        "builder.add_edge(\"get_problem\", \"classify\")\n",
        "builder.add_conditional_edges(\"classify\", problem_router, {\n",
        "    \"awareness\": \"awareness\",\n",
        "    \"emergency\": \"emergency\",\n",
        "    \"action\": \"action\"\n",
        "})\n",
        "\n",
        "\n",
        "builder.add_edge(\"awareness\", END)\n",
        "builder.add_edge(\"emergency\", END)\n",
        "builder.add_edge(\"action\", END)\n"
      ],
      "metadata": {
        "colab": {
          "base_uri": "https://localhost:8080/"
        },
        "id": "TEK5Rc4H3oH0",
        "outputId": "56991243-5625-428a-bc7f-a45bfbccedb5"
      },
      "execution_count": null,
      "outputs": [
        {
          "output_type": "execute_result",
          "data": {
            "text/plain": [
              "<langgraph.graph.state.StateGraph at 0x79f8f05ed250>"
            ]
          },
          "metadata": {},
          "execution_count": 32
        }
      ]
    },
    {
      "cell_type": "markdown",
      "source": [
        "9\n"
      ],
      "metadata": {
        "id": "GbAgCeZYci5k"
      }
    },
    {
      "cell_type": "code",
      "source": [
        "graph = builder.compile()\n",
        "final_state = graph.invoke({})\n",
        "print(\"Final Output:\")\n",
        "print(final_state[\"answer\"])"
      ],
      "metadata": {
        "colab": {
          "base_uri": "https://localhost:8080/"
        },
        "id": "CJc2IxyP7bsT",
        "outputId": "43db11d7-3e28-4032-9616-51fbd7ebb960"
      },
      "execution_count": null,
      "outputs": [
        {
          "output_type": "stream",
          "name": "stdout",
          "text": [
            "This is an Expert A.I guide for your problem , Please enter the situation to be solvedSaw a forest fire in Distance\n",
            "LLM Classifies the problem as : Emergency\n",
            "Final Output:\n",
            "**DO NOT APPROACH THE FIRE.**  Your safety is the top priority.\n",
            "\n",
            "**1. Immediately call emergency services:**  Your local fire department or emergency number (e.g., 911 in the US, 999 in the UK).  Give them the precise location of the fire (if possible using GPS coordinates or landmarks), the size of the fire (estimate), and the direction of the wind.\n",
            "\n",
            "**2. Evacuate the area:** If you are close enough to be concerned about smoke inhalation or the fire spreading towards you, leave immediately.  Do not wait for official instructions if you feel threatened.  Take essential documents and medications with you.\n",
            "\n",
            "**3. Stay informed:** Monitor news reports and official channels for updates on the fire and evacuation orders.\n",
            "\n",
            "**4. Protect yourself from smoke:** If you cannot evacuate immediately, find a safe, sheltered location upwind of the fire. Close all windows and doors.  If you have an N95 mask, wear it.  Wetting a cloth and placing it over your nose and mouth offers some limited protection.\n",
            "\n",
            "**5. Be aware of changing conditions:**  Wind direction and speed can drastically alter the fire's path.  Be prepared to evacuate at a moment's notice.\n",
            "\n",
            "**6. Do not attempt to fight the fire yourself:** This is extremely dangerous and should only be done by trained professionals.\n",
            "\n",
            "**7. Help others if it's safe to do so:** If you can safely assist elderly neighbors or people with disabilities in evacuating, do so.  But prioritize your own safety first.\n",
            "\n",
            "\n",
            "This is an emergency. Act quickly and decisively. Your life is more important than anything else.\n"
          ]
        }
      ]
    }
  ]
}